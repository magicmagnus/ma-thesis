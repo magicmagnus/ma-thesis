{
 "cells": [
  {
   "cell_type": "code",
   "execution_count": 20,
   "metadata": {},
   "outputs": [],
   "source": [
    "import pandas as pd\n",
    "import os\n",
    "\n",
    "def merge_csv_files(input_dir, output_file):\n",
    "    csv_files = []\n",
    "    # walk through all files in the input_dir\n",
    "    for root, dirs, files in os.walk(input_dir): \n",
    "        for file in files:\n",
    "            if file.endswith('.csv'):\n",
    "                # save not only the file name, but the full path\n",
    "                file_path = os.path.join(root, file)\n",
    "                csv_files.append(file_path)\n",
    "                print(f'Found csv file: {file_path}')\n",
    "\n",
    "    print(f'Merging {len(csv_files)} csv files')\n",
    "\n",
    "    # combine all csv files\n",
    "    dfs = []\n",
    "    for csv_file in csv_files:\n",
    "        df = pd.read_csv(os.path.join(input_dir, csv_file))\n",
    "        dfs.append(df)\n",
    "    # combine all dataframes, delete duplicates (if we have a csv files thats already a merge of multiple csv files, we might have duplicates)\n",
    "    combined_df = pd.concat(dfs).drop_duplicates()\n",
    "\n",
    "    # save to output file\n",
    "    combined_df.to_csv(output_file, index=False)"
   ]
  },
  {
   "cell_type": "code",
   "execution_count": 21,
   "metadata": {},
   "outputs": [
    {
     "name": "stdout",
     "output_type": "stream",
     "text": [
      "Found csv file: /is/sg2/mkaut/ma-thesis/experiments/gs/sd/mjprompts/num_5_steps_50_fpr_0.01_gdscale_3.0/results_decode_merged.csv\n",
      "Found csv file: /is/sg2/mkaut/ma-thesis/experiments/gs/sd/mjprompts/num_5_steps_50_fpr_0.01_gdscale_3.0/decode_imgs/logs/2025-02-19_16-31-07_cropscale/results_cropscale.csv\n",
      "Found csv file: /is/sg2/mkaut/ma-thesis/experiments/gs/sd/mjprompts/num_5_steps_50_fpr_0.01_gdscale_3.0/decode_imgs/logs/2025-02-19_16-47-21_noise/results_noise.csv\n",
      "Merging 3 csv files\n"
     ]
    }
   ],
   "source": [
    "# can be called locally, to aggregate all decode runs of one experiment\n",
    "# or just on the whole experiments dir, to aggregate all experiments, for the final analysis\n",
    "\n",
    "merge_csv_files('/is/sg2/mkaut/ma-thesis/experiments/gs/sd/mjprompts/num_5_steps_50_fpr_0.01_gdscale_3.0/', \n",
    "                '/is/sg2/mkaut/ma-thesis/experiments/gs/sd/mjprompts/num_5_steps_50_fpr_0.01_gdscale_3.0/results_decode_merged.csv')"
   ]
  }
 ],
 "metadata": {
  "kernelspec": {
   "display_name": "base",
   "language": "python",
   "name": "python3"
  },
  "language_info": {
   "codemirror_mode": {
    "name": "ipython",
    "version": 3
   },
   "file_extension": ".py",
   "mimetype": "text/x-python",
   "name": "python",
   "nbconvert_exporter": "python",
   "pygments_lexer": "ipython3",
   "version": "3.10.15"
  }
 },
 "nbformat": 4,
 "nbformat_minor": 2
}
