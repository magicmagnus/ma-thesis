{
 "cells": [
  {
   "cell_type": "code",
   "execution_count": 1,
   "metadata": {},
   "outputs": [],
   "source": [
    "from __init__ import *\n",
    "\n",
    "def load_csv_and_tag(file_path, tag):\n",
    "    df = pd.read_csv(file_path)\n",
    "    df['wm_ch'] = tag\n",
    "    return df"
   ]
  },
  {
   "cell_type": "code",
   "execution_count": 2,
   "metadata": {},
   "outputs": [],
   "source": [
    "# temp, next run we should have already saved them into one fiel from the mergeing step\n",
    "\n",
    "df_4ch = load_csv_and_tag('/is/sg2/mkaut/ma-thesis/experiments/exp2/_results/num_100_fpr_0.01_cfg_3.0_wmch_4_merged.csv', 4)\n",
    "df_8ch = load_csv_and_tag('/is/sg2/mkaut/ma-thesis/experiments/exp2/_results/num_100_fpr_0.01_cfg_3.0_wmch_8_merged.csv', 8)\n",
    "df_12ch = load_csv_and_tag('/is/sg2/mkaut/ma-thesis/experiments/exp2/_results/num_100_fpr_0.01_cfg_3.0_wmch_12_merged.csv', 12)\n",
    "df_16ch = load_csv_and_tag('/is/sg2/mkaut/ma-thesis/experiments/exp2/_results/num_100_fpr_0.01_cfg_3.0_wmch_16_merged.csv', 16)"
   ]
  },
  {
   "cell_type": "code",
   "execution_count": 3,
   "metadata": {},
   "outputs": [],
   "source": [
    "# merge all 4 dataframes, should be no duplicates (but better check)\n",
    "df = pd.concat([df_4ch, df_8ch, df_12ch, df_16ch], ignore_index=True)\n",
    "df\n",
    "# save the merged dataframe\n",
    "df.to_csv('/is/sg2/mkaut/ma-thesis/experiments/exp2/_results/coco/num_100_fpr_0.01_cfg_3.0_wmch_16/exp2_merged.csv', index=False)"
   ]
  },
  {
   "cell_type": "code",
   "execution_count": 6,
   "metadata": {},
   "outputs": [
    {
     "name": "stdout",
     "output_type": "stream",
     "text": [
      "model_ids: ['flux' 'flux_s']\n",
      "wm_methods: ['gs' 'grids' 'prc' 'tr' 'rid']\n",
      "attack_types: ['distortion' 'no_attack']\n",
      "attack_names: ['jpeg_ratio' 'crop_scale' 'no_attack']\n",
      "wm_chs: [ 4  8 12 16]\n",
      "attack_strengths: ['90.0' '70.0' '50.0' '30.0' '10.0' '0.9' '0.8' '0.7' '0.6' '0.5'\n",
      " 'no_attack']\n"
     ]
    }
   ],
   "source": [
    "# the df has 5 wm_method, 2 model_id, (1 dataset_id, ignore for now) 2 attack_type, 3 attack_names, \n",
    "# and depending on the attack_type 1 or 5 attack strengths ('no_attack' has only one strenght, every other attack_type has 5), and tpr_empirical\n",
    "\n",
    "# we want to calculte a new table/df in which we have taken the mean over the attack_strengths\n",
    "# only per wm_ch type (can be 4, 8, 12, 16) for each model id seperately:\n",
    "\n",
    "model_ids = df['model_id'].unique()\n",
    "wm_methods = df['wm_method'].unique()\n",
    "attack_types = df['attack_type'].unique()\n",
    "attack_names = df['attack_name'].unique()\n",
    "wm_chs = df['wm_ch'].unique()\n",
    "attack_strengths = df['attack_strength'].unique()\n",
    "\n",
    "print(f\"model_ids: {model_ids}\")\n",
    "print(f\"wm_methods: {wm_methods}\")\n",
    "print(f\"attack_types: {attack_types}\")\n",
    "print(f\"attack_names: {attack_names}\")\n",
    "print(f\"wm_chs: {wm_chs}\")\n",
    "print(f\"attack_strengths: {attack_strengths}\")"
   ]
  },
  {
   "cell_type": "markdown",
   "metadata": {},
   "source": [
    "# Calculate Mean over attack strengths (TABLE)"
   ]
  },
  {
   "cell_type": "code",
   "execution_count": null,
   "metadata": {},
   "outputs": [],
   "source": [
    "# loop over model_ids\n",
    "for model_id in model_ids:\n",
    "    model_df = df[df['model_id'] == model_id]\n",
    "    # check if empty\n",
    "    if model_df.empty:\n",
    "        print(f\"Model ID {model_id} has no data.\")\n",
    "        continue\n",
    "    else:\n",
    "        print(f\"\\nModel: {model_id}\")\n",
    "    \n",
    "    # loop over wm_methods\n",
    "    for wm_method in wm_methods:\n",
    "        wm_df = model_df[model_df['wm_method'] == wm_method]\n",
    "        # check if empty\n",
    "        if wm_df.empty:\n",
    "            print(f\"\\tWM method {wm_method} has no data for model ID {model_id}.\")\n",
    "            continue\n",
    "        else:\n",
    "            print(f\"\\tWM method: {wm_method}\")\n",
    "        for attack_name in attack_names:\n",
    "            attack_df = wm_df[model_df['attack_name'] == attack_name]\n",
    "            # check if empty\n",
    "            if attack_df.empty:\n",
    "                print(f\"\\t\\tAttack name {attack_name} has no data for model ID {model_id} and WM method {wm_method}.\")\n",
    "                continue\n",
    "            else:\n",
    "                print(f\"\\t\\tAttack name: {attack_name}\")\n",
    "            for wm_ch in wm_chs:\n",
    "                wm_ch_df = attack_df[attack_df['wm_ch'] == wm_ch]\n",
    "                # check if empty\n",
    "                if wm_ch_df.empty:\n",
    "                    print(f\"\\n\\t\\t\\tWM channel {wm_ch} has no data for attack name {attack_name}, model ID {model_id}, and WM method {wm_method}.\")\n",
    "                    continue\n",
    "                else:\n",
    "                    print(f\"\\n\\t\\t\\tWM channel: {wm_ch}\")\n",
    "                \n",
    "                attack_strengths = wm_ch_df['attack_strength'].unique()\n",
    "                #print(f\"\\t\\t\\t\\tattack strengths: {attack_strengths}\")\n",
    "                #print(f\"\\t\\t\\t\\ttpr empirical values: {wm_ch_df['tpr_empirical'].values}\")\n",
    "                #print(wm_ch_df)\n",
    "                mean_tpr = wm_ch_df['tpr_empirical'].mean()\n",
    "                std_tpr = wm_ch_df['tpr_empirical'].std()\n",
    "                print(f\"\\t\\t\\t\\tMean TPR: {mean_tpr:.3f}+-{std_tpr:.3f}\")\n",
    "            "
   ]
  },
  {
   "cell_type": "markdown",
   "metadata": {},
   "source": [
    "# Plot Comparisons"
   ]
  },
  {
   "cell_type": "code",
   "execution_count": 4,
   "metadata": {},
   "outputs": [
    {
     "name": "stdout",
     "output_type": "stream",
     "text": [
      "compare_variable: wm_ch\n",
      "compare_variables: [ 4  8 12 16]\n",
      "Plot saved to experiments/exp2/_results/coco/num_100_fpr_0.01_cfg_3.0_wmch_16/exp2_plot_flux.pdf\n",
      "compare_variable: wm_ch\n",
      "compare_variables: [ 4  8 12 16]\n",
      "Plot saved to experiments/exp2/_results/coco/num_100_fpr_0.01_cfg_3.0_wmch_16/exp2_plot_flux_wm_diff.pdf\n",
      "compare_variable: wm_ch\n",
      "compare_variables: [ 4  8 12 16]\n",
      "Plot saved to experiments/exp2/_results/coco/num_100_fpr_0.01_cfg_3.0_wmch_16/exp2_plot_flux_s.pdf\n",
      "compare_variable: wm_ch\n",
      "compare_variables: [ 4  8 12 16]\n",
      "Plot saved to experiments/exp2/_results/coco/num_100_fpr_0.01_cfg_3.0_wmch_16/exp2_plot_flux_s_wm_diff.pdf\n"
     ]
    }
   ],
   "source": [
    "args = Namespace()\n",
    "args.exp_name = 'exp2'\n",
    "\n",
    "\n",
    "# specify which experimental setup we want to plot\n",
    "args.num_imgs = 100\n",
    "args.prompt_dataset = 'coco'\n",
    "\n",
    "# for exp1, we merge results over wmch_16 for Flux and wmch_4 for SD\n",
    "args.dataset_identifier = [f'num_{args.num_imgs}_fpr_0.01_cfg_3.0_wmch_16', \n",
    "                           f'num_{args.num_imgs}_fpr_0.01_cfg_3.0_wmch_12',\n",
    "                           f'num_{args.num_imgs}_fpr_0.01_cfg_3.0_wmch_8',\n",
    "                           f'num_{args.num_imgs}_fpr_0.01_cfg_3.0_wmch_4'] \n",
    "\n",
    "# create the output directories and ffilenames\n",
    "args.input_dir = os.path.join('experiments', args.exp_name)\n",
    "args.output_dir = os.path.join('experiments', args.exp_name, '_results', args.prompt_dataset,  args.dataset_identifier[0])\n",
    "if not os.path.exists(args.output_dir):\n",
    "    os.makedirs(args.output_dir)\n",
    "args.merged_result_csv = os.path.join(args.output_dir, 'exp2_merged.csv')\n",
    "\n",
    "# merged results already created in 5_merge_results.py\n",
    "results_df = pd.read_csv(args.merged_result_csv)\n",
    "\n",
    "# plot the results for only the flux model\n",
    "df_flux = results_df[results_df['model_id'] == 'flux']\n",
    "args.title = (\n",
    "    f'Exp2: Effect of Watermark Channel on Perfomance\\n' \\\n",
    "    f'for dataset \"{args.prompt_dataset}\" and model \"Flux-[dev]\"\\n' \\\n",
    ")\n",
    "args.output_plot = os.path.join(args.output_dir,  'exp2_plot_flux.pdf')\n",
    "plot_tpr_per_attack_compare_variable(args, df_flux, 'tpr_empirical', 'wm_ch', WMCH_NAME_MAPPING)\n",
    "\n",
    "args.output_plot = os.path.join(args.output_dir,  'exp2_plot_flux_wm_diff.pdf')\n",
    "plot_tpr_per_attack_compare_variable(args, df_flux, 'wm_diff', 'wm_ch', WMCH_NAME_MAPPING,)\n",
    "\n",
    "df_flux_s = results_df[results_df['model_id'] == 'flux_s']\n",
    "args.title = (\n",
    "    f'Exp2: Effect of Watermark Channel on Perfomance\\n' \\\n",
    "    f'for dataset \"{args.prompt_dataset}\" and model \"Flux-[schnell]\"\\n' \\\n",
    ")\n",
    "args.output_plot = os.path.join(args.output_dir,  'exp2_plot_flux_s.pdf')\n",
    "plot_tpr_per_attack_compare_variable(args, df_flux_s, 'tpr_empirical', 'wm_ch', WMCH_NAME_MAPPING)\n",
    "\n",
    "args.output_plot = os.path.join(args.output_dir,  'exp2_plot_flux_s_wm_diff.pdf')\n",
    "plot_tpr_per_attack_compare_variable(args, df_flux_s, 'wm_diff', 'wm_ch', WMCH_NAME_MAPPING)\n"
   ]
  },
  {
   "cell_type": "code",
   "execution_count": null,
   "metadata": {},
   "outputs": [],
   "source": []
  },
  {
   "cell_type": "code",
   "execution_count": null,
   "metadata": {},
   "outputs": [],
   "source": []
  }
 ],
 "metadata": {
  "kernelspec": {
   "display_name": "base",
   "language": "python",
   "name": "python3"
  },
  "language_info": {
   "codemirror_mode": {
    "name": "ipython",
    "version": 3
   },
   "file_extension": ".py",
   "mimetype": "text/x-python",
   "name": "python",
   "nbconvert_exporter": "python",
   "pygments_lexer": "ipython3",
   "version": "3.10.15"
  }
 },
 "nbformat": 4,
 "nbformat_minor": 2
}
