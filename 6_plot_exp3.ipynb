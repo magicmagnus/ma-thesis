{
 "cells": [
  {
   "cell_type": "code",
   "execution_count": 1,
   "metadata": {},
   "outputs": [],
   "source": [
    "from __init__ import *"
   ]
  },
  {
   "cell_type": "code",
   "execution_count": 2,
   "metadata": {},
   "outputs": [],
   "source": [
    "args = Namespace()\n",
    "args.exp_name = 'exp3'\n",
    "\n",
    "# specify which experimental setup we want to plot\n",
    "args.num_imgs = 100\n",
    "args.prompt_dataset = 'coco'\n",
    "\n",
    "# for exp1, we merge results over wmch_16 for Flux and wmch_4 for SD\n",
    "args.dataset_identifier = [f'num_{args.num_imgs}_fpr_0.01_cfg_3.0_wmch_16_infsteps_4',\n",
    "                           f'num_{args.num_imgs}_fpr_0.01_cfg_3.0_wmch_16_infsteps_6',\n",
    "                           f'num_{args.num_imgs}_fpr_0.01_cfg_3.0_wmch_16_infsteps_8',\n",
    "                           f'num_{args.num_imgs}_fpr_0.01_cfg_3.0_wmch_16_infsteps_10',\n",
    "                           f'num_{args.num_imgs}_fpr_0.01_cfg_3.0_wmch_16_infsteps_12', \n",
    "                           \t] \n",
    "\n",
    "# create the output directories and filenames\n",
    "args.input_dir = os.path.join('experiments', args.exp_name)\n",
    "args.output_dir = os.path.join('experiments', args.exp_name, '_results', args.prompt_dataset,  args.dataset_identifier[0])\n",
    "if not os.path.exists(args.output_dir):\n",
    "    os.makedirs(args.output_dir)\n",
    "args.merged_result_csv = os.path.join(args.output_dir, 'exp3_merged.csv')\n",
    "\n",
    "# merged results already created in 5_merge_results.py\n",
    "df = pd.read_csv(args.merged_result_csv)"
   ]
  },
  {
   "cell_type": "markdown",
   "metadata": {},
   "source": [
    "# Calculate Mean over attack strengths (TABLE)"
   ]
  },
  {
   "cell_type": "code",
   "execution_count": null,
   "metadata": {},
   "outputs": [],
   "source": [
    "model_ids = df['model_id'].unique()\n",
    "wm_methods = df['wm_method'].unique()\n",
    "attack_types = df['attack_type'].unique()\n",
    "attack_names = df['attack_name'].unique()\n",
    "tifs = sorted(df['test_inf_steps'].unique())\n",
    "attack_strengths = df['attack_strength'].unique()\n",
    "\n",
    "print(f\"model_ids: {model_ids}\")\n",
    "print(f\"wm_methods: {wm_methods}\")\n",
    "print(f\"attack_types: {attack_types}\")\n",
    "print(f\"attack_names: {attack_names}\")\n",
    "print(f\"tifs: {tifs}\")\n",
    "print(f\"attack_strengths: {attack_strengths}\")\n",
    "\n",
    "# loop over model_ids\n",
    "for model_id in model_ids:\n",
    "    model_df = df[df['model_id'] == model_id]\n",
    "    # check if empty\n",
    "    if model_df.empty:\n",
    "        print(f\"Model ID {model_id} has no data.\")\n",
    "        continue\n",
    "    else:\n",
    "        print(f\"\\nModel: {model_id}\")\n",
    "    \n",
    "    # loop over wm_methods\n",
    "    for wm_method in wm_methods:\n",
    "        wm_df = model_df[model_df['wm_method'] == wm_method]\n",
    "        # check if empty\n",
    "        if wm_df.empty:\n",
    "            print(f\"\\tWM method {wm_method} has no data for model ID {model_id}.\")\n",
    "            continue\n",
    "        else:\n",
    "            print(f\"\\tWM method: {wm_method}\")\n",
    "        for attack_name in attack_names:\n",
    "            attack_df = wm_df[model_df['attack_name'] == attack_name]\n",
    "            # check if empty\n",
    "            if attack_df.empty:\n",
    "                print(f\"\\t\\tAttack name {attack_name} has no data for model ID {model_id} and WM method {wm_method}.\")\n",
    "                continue\n",
    "            else:\n",
    "                print(f\"\\t\\tAttack name: {attack_name}\")\n",
    "            for tif in tifs:\n",
    "                tif_df = attack_df[attack_df['test_inf_steps'] == tif]\n",
    "                # check if empty\n",
    "                if tif_df.empty:\n",
    "                    print(f\"\\n\\t\\t\\tTest inf steps {tif} has no data for attack name {attack_name}, model ID {model_id}, and WM method {wm_method}.\")\n",
    "                    continue\n",
    "                else:\n",
    "                    print(f\"\\n\\t\\t\\tTest inf steps: {tif}\")\n",
    "                \n",
    "                attack_strengths = tif_df['attack_strength'].unique()\n",
    "                #print(f\"\\t\\t\\t\\tattack strengths: {attack_strengths}\")\n",
    "                #print(f\"\\t\\t\\t\\ttpr empirical values: {wm_ch_df['tpr_empirical'].values}\")\n",
    "                #print(wm_ch_df)\n",
    "                mean_tpr = tif_df['tpr_empirical'].mean()\n",
    "                std_tpr = tif_df['tpr_empirical'].std()\n",
    "                print(f\"\\t\\t\\t\\tMean TPR: {mean_tpr:.3f}+-{std_tpr:.3f}\")\n",
    "            "
   ]
  },
  {
   "cell_type": "markdown",
   "metadata": {},
   "source": [
    "# Plot the Comparison"
   ]
  },
  {
   "cell_type": "code",
   "execution_count": 3,
   "metadata": {},
   "outputs": [
    {
     "name": "stdout",
     "output_type": "stream",
     "text": [
      "compare_variable: test_inf_steps\n",
      "compare_variables: [ 4.  6.  8. 10. 12.]\n",
      "Plot saved to experiments/exp3/_results/coco/num_100_fpr_0.01_cfg_3.0_wmch_16_infsteps_4/exp3_plot_flux_s_tpr_empirical.pdf\n",
      "compare_variable: test_inf_steps\n",
      "compare_variables: [ 4.  6.  8. 10. 12.]\n",
      "Plot saved to experiments/exp3/_results/coco/num_100_fpr_0.01_cfg_3.0_wmch_16_infsteps_4/exp3_plot_flux_s_wm_diff.pdf\n",
      "compare_variable: test_inf_steps\n",
      "compare_variables: [ 4.  6.  8. 10. 12.]\n",
      "Plot saved to experiments/exp3/_results/coco/num_100_fpr_0.01_cfg_3.0_wmch_16_infsteps_4/exp3_plot_flux_s_tpr_empirical_mean.pdf\n",
      "compare_variable: test_inf_steps\n",
      "compare_variables: [ 4.  6.  8. 10. 12.]\n",
      "Plot saved to experiments/exp3/_results/coco/num_100_fpr_0.01_cfg_3.0_wmch_16_infsteps_4/exp3_plot_flux_s_tpr_acc.pdf\n"
     ]
    }
   ],
   "source": [
    "# plot the results for only the flux_s model\n",
    "args.title = (\n",
    "    f'Exp3: Effect of \"test inference steps\" on Perfomance\\n' \\\n",
    "    f'for dataset \"{args.prompt_dataset}\" and model \"Flux-[schnell]\"\\n' \\\n",
    ")\n",
    "args.output_plot = os.path.join(args.output_dir,  'exp3_plot_flux_s_tpr_empirical.pdf')\n",
    "results_df = df[df['model_id'] == 'flux_s']\n",
    "plot_tpr_per_attack_compare_variable(args, results_df, 'tpr_empirical', 'test_inf_steps', TIF_NAME_MAPPING)\n",
    "\n",
    "args.output_plot = os.path.join(args.output_dir,  'exp3_plot_flux_s_wm_diff.pdf')\n",
    "plot_tpr_per_attack_compare_variable(args, results_df, 'wm_diff', 'test_inf_steps', TIF_NAME_MAPPING)\n",
    "\n",
    "args.output_plot = os.path.join(args.output_dir,  'exp3_plot_flux_s_tpr_empirical_mean.pdf')    \n",
    "plot_tpr_per_attack_compare_variable(args, results_df, 'tpr_empirical_mean', 'test_inf_steps', TIF_NAME_MAPPING)\n",
    "\n",
    "args.output_plot = os.path.join(args.output_dir,  'exp3_plot_flux_s_tpr_acc.pdf')\n",
    "plot_tpr_per_attack_compare_variable(args, results_df, 'acc', 'test_inf_steps', TIF_NAME_MAPPING)"
   ]
  },
  {
   "cell_type": "code",
   "execution_count": null,
   "metadata": {},
   "outputs": [],
   "source": []
  },
  {
   "cell_type": "code",
   "execution_count": null,
   "metadata": {},
   "outputs": [],
   "source": []
  }
 ],
 "metadata": {
  "kernelspec": {
   "display_name": "base",
   "language": "python",
   "name": "python3"
  },
  "language_info": {
   "codemirror_mode": {
    "name": "ipython",
    "version": 3
   },
   "file_extension": ".py",
   "mimetype": "text/x-python",
   "name": "python",
   "nbconvert_exporter": "python",
   "pygments_lexer": "ipython3",
   "version": "3.10.15"
  }
 },
 "nbformat": 4,
 "nbformat_minor": 2
}
